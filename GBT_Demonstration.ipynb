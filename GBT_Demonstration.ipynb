{
 "cells": [
  {
   "cell_type": "code",
   "execution_count": 1,
   "id": "a75a580f-f933-45d7-93e9-a655862092ab",
   "metadata": {},
   "outputs": [],
   "source": [
    "from pyspark.sql import SparkSession\n",
    "from pyspark.sql.functions import col\n",
    "from pyspark.ml.feature import StringIndexer, VectorAssembler\n",
    "from pyspark.ml import Pipeline\n",
    "from pyspark.ml.evaluation import MulticlassClassificationEvaluator\n",
    "\n",
    "# Initialize Spark session\n",
    "spark = SparkSession.builder \\\n",
    "    .appName(\"GBT Fraud Detection - Prediction & Evaluation\") \\\n",
    "    .getOrCreate()\n",
    "\n",
    "# Load the dataset (if necessary)\n",
    "df = spark.read.csv('Synthetic_Financial_datasets_log.csv', header=True, inferSchema=True)\n",
    "\n",
    "# Index the categorical column 'type'\n",
    "indexer = StringIndexer(inputCol='type', outputCol='type_index')\n",
    "\n",
    "# Select features for the model\n",
    "feature_cols = ['step', 'amount', 'oldbalanceOrg', 'newbalanceOrig', 'oldbalanceDest', 'newbalanceDest', 'type_index']\n",
    "assembler = VectorAssembler(inputCols=feature_cols, outputCol='features')\n",
    "\n",
    "# Create a pipeline\n",
    "pipeline = Pipeline(stages=[indexer, assembler])\n",
    "\n",
    "# Transform the data using the same pipeline as during training\n",
    "df_transformed = pipeline.fit(df).transform(df)\n",
    "\n",
    "# Split the data into train and test sets (same split as used for training)\n",
    "train_data, test_data = df_transformed.randomSplit([0.8, 0.2], seed=42)\n",
    "\n",
    "# Load the pre-trained GBT model\n",
    "from pyspark.ml.classification import GBTClassificationModel\n",
    "gbt_model = GBTClassificationModel.load(\"/data/gbt_fraud_detection_model\")  # Adjust path as needed"
   ]
  },
  {
   "cell_type": "code",
   "execution_count": 3,
   "id": "1df51476-051a-4b69-ab08-d739fe038444",
   "metadata": {},
   "outputs": [
    {
     "name": "stdout",
     "output_type": "stream",
     "text": [
      "Prediction: Fraud\n"
     ]
    }
   ],
   "source": [
    "def predict_fraud(input_data):\n",
    "    # Create a DataFrame from the input\n",
    "    input_df = spark.createDataFrame([input_data], schema=['step', 'type', 'amount', 'oldbalanceOrg', 'newbalanceOrig', 'oldbalanceDest', 'newbalanceDest'])\n",
    "\n",
    "    # Transform the input using the same pipeline\n",
    "    input_transformed = pipeline.fit(input_df).transform(input_df)\n",
    "\n",
    "    # Make predictions\n",
    "    prediction = gbt_model.transform(input_transformed)\n",
    "    \n",
    "    # Return prediction result\n",
    "    return prediction.select('prediction').collect()[0][0]\n",
    "\n",
    "# Example usage of the predict_fraud function\n",
    "user_input = [355, 'Debit', 9000, 9000, 0, 0, 9000]  # Example input\n",
    "result = predict_fraud(user_input)\n",
    "print(\"Prediction:\", \"Fraud\" if result == 1 else \"Not Fraud\")"
   ]
  },
  {
   "cell_type": "code",
   "execution_count": 4,
   "id": "d61d4a87-10b4-4878-8e8b-2e520bec0576",
   "metadata": {},
   "outputs": [
    {
     "name": "stdout",
     "output_type": "stream",
     "text": [
      "+--------------------+-------+----------+\n",
      "|            features|isFraud|prediction|\n",
      "+--------------------+-------+----------+\n",
      "|[1.0,783.31,81503...|      0|       0.0|\n",
      "|[1.0,1271.77,6973...|      0|       0.0|\n",
      "|[1.0,2643.45,6434...|      0|       0.0|\n",
      "|[1.0,6284.18,7858...|      0|       0.0|\n",
      "|[1.0,8679.13,7087...|      0|       0.0|\n",
      "+--------------------+-------+----------+\n",
      "only showing top 5 rows\n",
      "\n",
      "Accuracy on test set: 0.9823\n",
      "Precision on test set: 0.9988\n",
      "Recall on test set: 0.9823\n"
     ]
    }
   ],
   "source": [
    "predictions = gbt_model.transform(test_data)\n",
    "\n",
    "# Show a sample of predictions\n",
    "predictions.select('features', 'isFraud', 'prediction').show(5)\n",
    "\n",
    "# Evaluate the model\n",
    "evaluator = MulticlassClassificationEvaluator(labelCol='isFraud', predictionCol='prediction', metricName='accuracy')\n",
    "accuracy = evaluator.evaluate(predictions)\n",
    "print(f\"Accuracy on test set: {accuracy:.4f}\")\n",
    "\n",
    "# Optionally, you can use other evaluation metrics (e.g., precision, recall)\n",
    "precision_evaluator = MulticlassClassificationEvaluator(labelCol='isFraud', predictionCol='prediction', metricName='weightedPrecision')\n",
    "recall_evaluator = MulticlassClassificationEvaluator(labelCol='isFraud', predictionCol='prediction', metricName='weightedRecall')\n",
    "\n",
    "precision = precision_evaluator.evaluate(predictions)\n",
    "recall = recall_evaluator.evaluate(predictions)\n",
    "\n",
    "print(f\"Precision on test set: {precision:.4f}\")\n",
    "print(f\"Recall on test set: {recall:.4f}\")\n"
   ]
  },
  {
   "cell_type": "code",
   "execution_count": null,
   "id": "9097d516-9dca-43c5-b355-e8fb78b7c616",
   "metadata": {},
   "outputs": [],
   "source": []
  }
 ],
 "metadata": {
  "kernelspec": {
   "display_name": "Python 3 (ipykernel)",
   "language": "python",
   "name": "python3"
  },
  "language_info": {
   "codemirror_mode": {
    "name": "ipython",
    "version": 3
   },
   "file_extension": ".py",
   "mimetype": "text/x-python",
   "name": "python",
   "nbconvert_exporter": "python",
   "pygments_lexer": "ipython3",
   "version": "3.11.6"
  }
 },
 "nbformat": 4,
 "nbformat_minor": 5
}
