{
 "cells": [
  {
   "cell_type": "code",
   "execution_count": 1,
   "id": "ca35aabe-ae29-4f97-8fa3-5766d4e3a027",
   "metadata": {},
   "outputs": [],
   "source": [
    "from pyspark.sql import SparkSession\n",
    "from pyspark.sql.functions import col\n",
    "from pyspark.ml.feature import StringIndexer, VectorAssembler\n",
    "from pyspark.ml import Pipeline\n",
    "from pyspark.sql import functions as F\n",
    "from pyspark.ml.classification import RandomForestClassifier\n",
    "from pyspark.ml.evaluation import MulticlassClassificationEvaluator\n"
   ]
  },
  {
   "cell_type": "code",
   "execution_count": 2,
   "id": "174ae1de-97bd-429f-8b54-a409d46f7102",
   "metadata": {},
   "outputs": [],
   "source": [
    "# Initialize Spark session\n",
    "spark = SparkSession.builder \\\n",
    "    .appName(\"Fraud Detection\") \\\n",
    "    .getOrCreate()"
   ]
  },
  {
   "cell_type": "code",
   "execution_count": 3,
   "id": "8bec397a-2c0c-4b5c-8426-29d3e4aec5b0",
   "metadata": {},
   "outputs": [],
   "source": [
    "indexer = StringIndexer(inputCol='type', outputCol='type_index')\n",
    "\n",
    "# Select features for the model (you can adjust this based on your needs)\n",
    "feature_cols = ['step', 'amount', 'oldbalanceOrg', 'newbalanceOrig', 'oldbalanceDest', 'newbalanceDest', 'type_index']\n",
    "assembler = VectorAssembler(inputCols=feature_cols, outputCol='features')\n",
    "\n",
    "# Create a pipeline\n",
    "pipeline = Pipeline(stages=[indexer, assembler])"
   ]
  },
  {
   "cell_type": "code",
   "execution_count": 4,
   "id": "c6bb343c-f3b4-4f3f-a750-e0c810447da4",
   "metadata": {},
   "outputs": [],
   "source": [
    "from pyspark.ml.classification import RandomForestClassificationModel\n",
    "\n",
    "# Load the Random Forest model\n",
    "model = RandomForestClassificationModel.load(\"fraud_detection_model_V2\")  # Replace with the actual path\n"
   ]
  },
  {
   "cell_type": "code",
   "execution_count": 9,
   "id": "bbb2790b-aa58-4da0-9dfc-a2d515a07caf",
   "metadata": {},
   "outputs": [
    {
     "name": "stdout",
     "output_type": "stream",
     "text": [
      "Prediction: Not Fraud\n"
     ]
    }
   ],
   "source": [
    "def predict_fraud(input_data):\n",
    "    # Create a DataFrame from the input\n",
    "    input_df = spark.createDataFrame([input_data], schema=['step', 'type', 'amount', 'oldbalanceOrg', 'newbalanceOrig', 'oldbalanceDest', 'newbalanceDest'])\n",
    "\n",
    "    # Transform the input\n",
    "    input_transformed = pipeline.fit(input_df).transform(input_df)\n",
    "    \n",
    "    # Make predictions\n",
    "    prediction = model.transform(input_transformed)\n",
    "    \n",
    "    return prediction.select('prediction').collect()[0][0]\n",
    "\n",
    "# Example usage\n",
    "user_input = [355, 'Debit', 900, 9000, 8100, 7100, 8000]  # Example input\n",
    "result = predict_fraud(user_input)\n",
    "print(\"Prediction:\", \"Fraud\" if result == 1 else \"Not Fraud\")"
   ]
  },
  {
   "cell_type": "code",
   "execution_count": 1,
   "id": "d17bc06f-9688-4275-b593-15e08a129a77",
   "metadata": {},
   "outputs": [
    {
     "name": "stdout",
     "output_type": "stream",
     "text": [
      "root\n",
      " |-- step: integer (nullable = true)\n",
      " |-- type: string (nullable = true)\n",
      " |-- amount: double (nullable = true)\n",
      " |-- nameOrig: string (nullable = true)\n",
      " |-- oldbalanceOrg: double (nullable = true)\n",
      " |-- newbalanceOrig: double (nullable = true)\n",
      " |-- nameDest: string (nullable = true)\n",
      " |-- oldbalanceDest: double (nullable = true)\n",
      " |-- newbalanceDest: double (nullable = true)\n",
      " |-- isFraud: integer (nullable = true)\n",
      " |-- isFlaggedFraud: integer (nullable = true)\n",
      "\n"
     ]
    }
   ],
   "source": [
    "from pyspark.sql import SparkSession\n",
    "\n",
    "# Initialize Spark session\n",
    "spark = SparkSession.builder \\\n",
    "    .appName(\"Accuracyreport\") \\\n",
    "    .getOrCreate()\n",
    "\n",
    "# Load the dataset\n",
    "df = spark.read.csv('Synthetic_Financial_datasets_log.csv', header=True, inferSchema=True)\n",
    "\n",
    "# Show the schema\n",
    "df.printSchema()\n"
   ]
  },
  {
   "cell_type": "code",
   "execution_count": 2,
   "id": "08f92cea-042a-4a14-8de9-28296b730d7e",
   "metadata": {},
   "outputs": [
    {
     "name": "stdout",
     "output_type": "stream",
     "text": [
      "+--------------------+-------+\n",
      "|            features|isFraud|\n",
      "+--------------------+-------+\n",
      "|[1.0,9839.64,1701...|      0|\n",
      "|[1.0,1864.28,2124...|      0|\n",
      "|[1.0,181.0,181.0,...|      1|\n",
      "|[1.0,181.0,181.0,...|      1|\n",
      "|[1.0,11668.14,415...|      0|\n",
      "|[1.0,7817.71,5386...|      0|\n",
      "|[1.0,7107.77,1831...|      0|\n",
      "|[1.0,7861.64,1760...|      0|\n",
      "|[1.0,4024.36,2671...|      0|\n",
      "|[1.0,5337.77,4172...|      0|\n",
      "|[1.0,9644.94,4465...|      0|\n",
      "|[1.0,3099.97,2077...|      0|\n",
      "|[1.0,2560.74,5070...|      0|\n",
      "|[1.0,11633.76,101...|      0|\n",
      "|[1.0,4098.78,5032...|      0|\n",
      "|[1.0,229133.94,15...|      0|\n",
      "|[1.0,1563.82,450....|      0|\n",
      "|[1.0,1157.86,2115...|      0|\n",
      "|[1.0,671.64,15123...|      0|\n",
      "|[1.0,215310.3,705...|      0|\n",
      "+--------------------+-------+\n",
      "only showing top 20 rows\n",
      "\n"
     ]
    }
   ],
   "source": [
    "from pyspark.sql.functions import col\n",
    "from pyspark.ml.feature import StringIndexer, VectorAssembler\n",
    "from pyspark.ml import Pipeline\n",
    "\n",
    "# Index the categorical column 'type'\n",
    "indexer = StringIndexer(inputCol='type', outputCol='type_index')\n",
    "\n",
    "# Select features for the model (you can adjust this based on your needs)\n",
    "feature_cols = ['step', 'amount', 'oldbalanceOrg', 'newbalanceOrig', 'oldbalanceDest', 'newbalanceDest', 'type_index']\n",
    "assembler = VectorAssembler(inputCols=feature_cols, outputCol='features')\n",
    "\n",
    "# Create a pipeline\n",
    "pipeline = Pipeline(stages=[indexer, assembler])\n",
    "df_transformed = pipeline.fit(df).transform(df)\n",
    "\n",
    "# Show transformed data\n",
    "df_transformed.select('features', 'isFraud').show()\n"
   ]
  },
  {
   "cell_type": "code",
   "execution_count": 3,
   "id": "25aabcc4-0fbf-490f-8a50-11d541c49245",
   "metadata": {},
   "outputs": [],
   "source": [
    "train_data, test_data = df_transformed.randomSplit([0.8, 0.2], seed=42)\n"
   ]
  },
  {
   "cell_type": "code",
   "execution_count": 5,
   "id": "1dffe8f4-a871-44a2-8d2b-e4bd864603f1",
   "metadata": {},
   "outputs": [],
   "source": [
    "from pyspark.ml.classification import RandomForestClassificationModel\n",
    "\n",
    "# Load the Random Forest model\n",
    "model = RandomForestClassificationModel.load(\"fraud_detection_model_V2\")  # Replace with the actual path\n"
   ]
  },
  {
   "cell_type": "code",
   "execution_count": 6,
   "id": "fe453e8e-0e22-4605-9f8a-0639319a7028",
   "metadata": {},
   "outputs": [
    {
     "name": "stdout",
     "output_type": "stream",
     "text": [
      "AUC: 0.9972\n",
      "Precision: 0.0287\n",
      "Recall: 0.9801\n",
      "F1 Score: 0.9774\n"
     ]
    }
   ],
   "source": [
    "from pyspark.ml.evaluation import BinaryClassificationEvaluator, MulticlassClassificationEvaluator\n",
    "# Make predictions on the test data\n",
    "predictions = model.transform(test_data)\n",
    "# Binary evaluator for areaUnderROC\n",
    "binary_evaluator = BinaryClassificationEvaluator(labelCol=\"isFraud\", rawPredictionCol=\"rawPrediction\", metricName=\"areaUnderROC\")\n",
    "\n",
    "# Multiclass evaluator for precision, recall, and F1 score\n",
    "precision_evaluator = MulticlassClassificationEvaluator(labelCol=\"isFraud\", predictionCol=\"prediction\", metricName=\"precisionByLabel\")\n",
    "recall_evaluator = MulticlassClassificationEvaluator(labelCol=\"isFraud\", predictionCol=\"prediction\", metricName=\"recallByLabel\")\n",
    "f1_evaluator = MulticlassClassificationEvaluator(labelCol=\"isFraud\", predictionCol=\"prediction\", metricName=\"f1\")\n",
    "\n",
    "# Calculate AUC (Area Under ROC Curve)\n",
    "auc = binary_evaluator.evaluate(predictions)\n",
    "# Calculate precision for the \"fraud\" class (label 1)\n",
    "precision = precision_evaluator.evaluate(predictions, {precision_evaluator.metricLabel: 1})\n",
    "# Calculate recall for the \"fraud\" class (label 1)\n",
    "recall = recall_evaluator.evaluate(predictions, {recall_evaluator.metricLabel: 1})\n",
    "# Calculate F1 score for the \"fraud\" class (label 1)\n",
    "f1 = f1_evaluator.evaluate(predictions, {f1_evaluator.metricLabel: 1})\n",
    "\n",
    "print(f\"AUC: {auc:.4f}\")\n",
    "#print(f\"Precision: {precision:.4f}\")\n",
    "print(f\"Recall: {recall:.4f}\")\n",
    "print(f\"F1 Score: {f1:.4f}\")\n"
   ]
  },
  {
   "cell_type": "code",
   "execution_count": 7,
   "id": "a7fc60ad-cbbc-449c-aaf0-f29b5c3e2cee",
   "metadata": {},
   "outputs": [
    {
     "data": {
      "image/png": "[encoded data removed]",
      "text/plain": [
       "<Figure size 600x400 with 2 Axes>"
      ]
     },
     "metadata": {},
     "output_type": "display_data"
    },
    {
     "name": "stdout",
     "output_type": "stream",
     "text": [
      "Accuracy: 0.9580\n"
     ]
    },
    {
     "data": {
      "image/png": "[encoded data removed]",
      "text/plain": [
       "<Figure size 500x400 with 1 Axes>"
      ]
     },
     "metadata": {},
     "output_type": "display_data"
    }
   ],
   "source": [
    "import seaborn as sns\n",
    "import matplotlib.pyplot as plt\n",
    "from sklearn.metrics import confusion_matrix, accuracy_score\n",
    "\n",
    "# Convert the predictions to a Pandas DataFrame for easier manipulation\n",
    "predictions_pandas = predictions.select(\"isFraud\", \"prediction\").toPandas()\n",
    "\n",
    "# Extract true labels and predictions\n",
    "y_true = predictions_pandas['isFraud']\n",
    "y_pred = predictions_pandas['prediction']\n",
    "\n",
    "# Calculate confusion matrix\n",
    "conf_matrix = confusion_matrix(y_true, y_pred)\n",
    "\n",
    "# Plot confusion matrix using seaborn\n",
    "plt.figure(figsize=(6, 4))\n",
    "sns.heatmap(conf_matrix, annot=True, fmt='d', cmap='Blues', xticklabels=['Not Fraud', 'Fraud'], yticklabels=['Not Fraud', 'Fraud'])\n",
    "plt.title(\"Confusion Matrix\")\n",
    "plt.xlabel(\"Predicted Label\")\n",
    "plt.ylabel(\"True Label\")\n",
    "plt.show()\n",
    "\n",
    "# Calculate accuracy\n",
    "accuracy = accuracy_score(y_true, y_pred)\n",
    "print(f\"Accuracy: {accuracy:.4f}\")\n",
    "\n",
    "# Plot accuracy graph (optional)\n",
    "plt.figure(figsize=(5, 4))\n",
    "plt.bar(['Accuracy'], [accuracy], color='green')\n",
    "plt.ylim(0, 1)\n",
    "plt.title('Model Accuracy')\n",
    "plt.ylabel('Accuracy')\n",
    "plt.show()\n"
   ]
  },
  {
   "cell_type": "code",
   "execution_count": null,
   "id": "a1887685-8313-45ad-a65c-3ee6b6af5a85",
   "metadata": {},
   "outputs": [],
   "source": []
  }
 ],
 "metadata": {
  "kernelspec": {
   "display_name": "Python 3 (ipykernel)",
   "language": "python",
   "name": "python3"
  },
  "language_info": {
   "codemirror_mode": {
    "name": "ipython",
    "version": 3
   },
   "file_extension": ".py",
   "mimetype": "text/x-python",
   "name": "python",
   "nbconvert_exporter": "python",
   "pygments_lexer": "ipython3",
   "version": "3.11.6"
  }
 },
 "nbformat": 4,
 "nbformat_minor": 5
}
